{
 "cells": [
  {
   "cell_type": "code",
   "execution_count": 1,
   "metadata": {
    "collapsed": true
   },
   "outputs": [],
   "source": [
    "import pandas as pd\n",
    "import os\n",
    "import datetime\n",
    "import dateutil\n",
    "import numpy as np\n",
    "import matplotlib.pyplot as plt\n",
    "\n",
    "%matplotlib inline"
   ]
  },
  {
   "cell_type": "markdown",
   "metadata": {},
   "source": [
    "# df stores historic stock price data"
   ]
  },
  {
   "cell_type": "code",
   "execution_count": 4,
   "metadata": {
    "collapsed": false
   },
   "outputs": [],
   "source": [
    "files = os.listdir('.')\n",
    "datafiles = [f for f in files if 'csv' in f]\n",
    "datafiles.reverse()\n",
    "\n",
    "df = pd.DataFrame()\n",
    "for dataf in datafiles:\n",
    "    df = pd.concat([df, pd.read_csv('./' + dataf)])\n",
    "\n",
    "df = df.reset_index()\n",
    "df['Date2'] = df['Date'].apply(lambda x:dateutil.parser.parse(x))"
   ]
  },
  {
   "cell_type": "code",
   "execution_count": 6,
   "metadata": {
    "collapsed": false,
    "scrolled": true
   },
   "outputs": [
    {
     "data": {
      "text/html": [
       "<div>\n",
       "<table border=\"1\" class=\"dataframe\">\n",
       "  <thead>\n",
       "    <tr style=\"text-align: right;\">\n",
       "      <th></th>\n",
       "      <th>index</th>\n",
       "      <th>Date</th>\n",
       "      <th>Open</th>\n",
       "      <th>High</th>\n",
       "      <th>Low</th>\n",
       "      <th>Close</th>\n",
       "      <th>Volume</th>\n",
       "      <th>Adj Close</th>\n",
       "      <th>Date2</th>\n",
       "    </tr>\n",
       "  </thead>\n",
       "  <tbody>\n",
       "    <tr>\n",
       "      <th>0</th>\n",
       "      <td>0</td>\n",
       "      <td>2017-02-01</td>\n",
       "      <td>132.250000</td>\n",
       "      <td>133.490005</td>\n",
       "      <td>130.679993</td>\n",
       "      <td>133.229996</td>\n",
       "      <td>42482700</td>\n",
       "      <td>133.229996</td>\n",
       "      <td>2017-02-01</td>\n",
       "    </tr>\n",
       "    <tr>\n",
       "      <th>1</th>\n",
       "      <td>1</td>\n",
       "      <td>2017-01-31</td>\n",
       "      <td>130.169998</td>\n",
       "      <td>130.660004</td>\n",
       "      <td>129.520004</td>\n",
       "      <td>130.320007</td>\n",
       "      <td>19444000</td>\n",
       "      <td>130.320007</td>\n",
       "      <td>2017-01-31</td>\n",
       "    </tr>\n",
       "    <tr>\n",
       "      <th>2</th>\n",
       "      <td>2</td>\n",
       "      <td>2017-01-30</td>\n",
       "      <td>131.580002</td>\n",
       "      <td>131.580002</td>\n",
       "      <td>129.600006</td>\n",
       "      <td>130.979996</td>\n",
       "      <td>18891400</td>\n",
       "      <td>130.979996</td>\n",
       "      <td>2017-01-30</td>\n",
       "    </tr>\n",
       "    <tr>\n",
       "      <th>3</th>\n",
       "      <td>3</td>\n",
       "      <td>2017-01-27</td>\n",
       "      <td>132.679993</td>\n",
       "      <td>132.949997</td>\n",
       "      <td>131.080002</td>\n",
       "      <td>132.179993</td>\n",
       "      <td>19493900</td>\n",
       "      <td>132.179993</td>\n",
       "      <td>2017-01-27</td>\n",
       "    </tr>\n",
       "    <tr>\n",
       "      <th>4</th>\n",
       "      <td>4</td>\n",
       "      <td>2017-01-26</td>\n",
       "      <td>131.630005</td>\n",
       "      <td>133.139999</td>\n",
       "      <td>131.440002</td>\n",
       "      <td>132.779999</td>\n",
       "      <td>19818100</td>\n",
       "      <td>132.779999</td>\n",
       "      <td>2017-01-26</td>\n",
       "    </tr>\n",
       "  </tbody>\n",
       "</table>\n",
       "</div>"
      ],
      "text/plain": [
       "   index        Date        Open        High         Low       Close  \\\n",
       "0      0  2017-02-01  132.250000  133.490005  130.679993  133.229996   \n",
       "1      1  2017-01-31  130.169998  130.660004  129.520004  130.320007   \n",
       "2      2  2017-01-30  131.580002  131.580002  129.600006  130.979996   \n",
       "3      3  2017-01-27  132.679993  132.949997  131.080002  132.179993   \n",
       "4      4  2017-01-26  131.630005  133.139999  131.440002  132.779999   \n",
       "\n",
       "     Volume   Adj Close      Date2  \n",
       "0  42482700  133.229996 2017-02-01  \n",
       "1  19444000  130.320007 2017-01-31  \n",
       "2  18891400  130.979996 2017-01-30  \n",
       "3  19493900  132.179993 2017-01-27  \n",
       "4  19818100  132.779999 2017-01-26  "
      ]
     },
     "execution_count": 6,
     "metadata": {},
     "output_type": "execute_result"
    }
   ],
   "source": [
    "df.head()"
   ]
  },
  {
   "cell_type": "markdown",
   "metadata": {},
   "source": [
    "# a: announcement date"
   ]
  },
  {
   "cell_type": "code",
   "execution_count": 7,
   "metadata": {
    "collapsed": true
   },
   "outputs": [],
   "source": [
    "dates = pd.read_excel('FB quarterly report dates.xlsx')"
   ]
  },
  {
   "cell_type": "code",
   "execution_count": 8,
   "metadata": {
    "collapsed": false
   },
   "outputs": [
    {
     "data": {
      "text/html": [
       "<div>\n",
       "<table border=\"1\" class=\"dataframe\">\n",
       "  <thead>\n",
       "    <tr style=\"text-align: right;\">\n",
       "      <th></th>\n",
       "      <th>sec</th>\n",
       "      <th>Unnamed: 1</th>\n",
       "      <th>announcement</th>\n",
       "    </tr>\n",
       "  </thead>\n",
       "  <tbody>\n",
       "    <tr>\n",
       "      <th>0</th>\n",
       "      <td>NaT</td>\n",
       "      <td>NaN</td>\n",
       "      <td>2017-02-01</td>\n",
       "    </tr>\n",
       "    <tr>\n",
       "      <th>1</th>\n",
       "      <td>2016-11-03</td>\n",
       "      <td>5.0</td>\n",
       "      <td>2016-11-02</td>\n",
       "    </tr>\n",
       "    <tr>\n",
       "      <th>2</th>\n",
       "      <td>2016-07-28</td>\n",
       "      <td>5.0</td>\n",
       "      <td>2016-07-27</td>\n",
       "    </tr>\n",
       "    <tr>\n",
       "      <th>3</th>\n",
       "      <td>2016-04-28</td>\n",
       "      <td>5.0</td>\n",
       "      <td>2016-04-27</td>\n",
       "    </tr>\n",
       "    <tr>\n",
       "      <th>4</th>\n",
       "      <td>2016-01-28</td>\n",
       "      <td>5.0</td>\n",
       "      <td>2016-01-27</td>\n",
       "    </tr>\n",
       "  </tbody>\n",
       "</table>\n",
       "</div>"
      ],
      "text/plain": [
       "         sec  Unnamed: 1 announcement\n",
       "0        NaT         NaN   2017-02-01\n",
       "1 2016-11-03         5.0   2016-11-02\n",
       "2 2016-07-28         5.0   2016-07-27\n",
       "3 2016-04-28         5.0   2016-04-27\n",
       "4 2016-01-28         5.0   2016-01-27"
      ]
     },
     "execution_count": 8,
     "metadata": {},
     "output_type": "execute_result"
    }
   ],
   "source": [
    "dates.head()"
   ]
  },
  {
   "cell_type": "code",
   "execution_count": 11,
   "metadata": {
    "collapsed": true
   },
   "outputs": [],
   "source": [
    "a = dates['announcement']"
   ]
  },
  {
   "cell_type": "markdown",
   "metadata": {
    "collapsed": true
   },
   "source": [
    "# define cal_an_close to extract price information for n days before or after the announcement date"
   ]
  },
  {
   "cell_type": "code",
   "execution_count": 9,
   "metadata": {
    "collapsed": true
   },
   "outputs": [],
   "source": [
    "def add_n_day(x, n):\n",
    "    xn = x + datetime.timedelta(days=n)\n",
    "    if xn.weekday() == 5:\n",
    "        return xn + datetime.timedelta(days=2)\n",
    "    elif xn.weekday() == 6:\n",
    "        return xn + datetime.timedelta(days=1)\n",
    "    else:\n",
    "        return xn\n",
    "    \n",
    "\n",
    "def cal_an_close(a, n):\n",
    "    \n",
    "    an = a.apply(add_n_day, n=n)\n",
    "    an_close = []\n",
    "\n",
    "    for test_date in an:\n",
    "        try:\n",
    "            an_close.append(df[df['Date2'] == test_date]['Close'].tolist()[0])\n",
    "        except:\n",
    "            an_close.append(0)\n",
    "    return an_close"
   ]
  },
  {
   "cell_type": "markdown",
   "metadata": {
    "collapsed": true
   },
   "source": [
    "# calculate the price of day before(-1), day(0), and day after(1,2,...)"
   ]
  },
  {
   "cell_type": "code",
   "execution_count": 23,
   "metadata": {
    "collapsed": false
   },
   "outputs": [
    {
     "name": "stdout",
     "output_type": "stream",
     "text": [
      "day before < day:  11\n",
      "day before < day < n days after:  8\n",
      "difference mean 4.105001375\n",
      "difference std 2.42679359521\n"
     ]
    }
   ],
   "source": [
    "df_price = pd.DataFrame([a.tolist(), cal_an_close(a,-1), cal_an_close(a,0), cal_an_close(a,1)]).transpose()\n",
    "\n",
    "df_price.columns = ['date','daybefore','day','dayafter']\n",
    "\n",
    "df_price2 = df_price[df_price['daybefore']<df_price['day']]\n",
    "\n",
    "df_price3 = df_price2[df_price2['day']<df_price2['dayafter']]\n",
    "\n",
    "print 'day before < day: ', len(df_price2)\n",
    "\n",
    "print 'day before < day < n days after: ', len(df_price3)\n",
    "\n",
    "price_difference = df_price3['dayafter'] - df_price3['day']\n",
    "\n",
    "#print price_difference\n",
    "\n",
    "print 'difference mean', np.array(price_difference).mean()\n",
    "\n",
    "print 'difference std', np.array(price_difference).std()"
   ]
  },
  {
   "cell_type": "code",
   "execution_count": null,
   "metadata": {
    "collapsed": true
   },
   "outputs": [],
   "source": []
  },
  {
   "cell_type": "code",
   "execution_count": null,
   "metadata": {
    "collapsed": true
   },
   "outputs": [],
   "source": []
  },
  {
   "cell_type": "code",
   "execution_count": null,
   "metadata": {
    "collapsed": true
   },
   "outputs": [],
   "source": []
  },
  {
   "cell_type": "code",
   "execution_count": null,
   "metadata": {
    "collapsed": true
   },
   "outputs": [],
   "source": []
  },
  {
   "cell_type": "code",
   "execution_count": null,
   "metadata": {
    "collapsed": true
   },
   "outputs": [],
   "source": []
  },
  {
   "cell_type": "code",
   "execution_count": null,
   "metadata": {
    "collapsed": true
   },
   "outputs": [],
   "source": []
  },
  {
   "cell_type": "code",
   "execution_count": null,
   "metadata": {
    "collapsed": true
   },
   "outputs": [],
   "source": []
  },
  {
   "cell_type": "code",
   "execution_count": null,
   "metadata": {
    "collapsed": true
   },
   "outputs": [],
   "source": []
  },
  {
   "cell_type": "code",
   "execution_count": null,
   "metadata": {
    "collapsed": true
   },
   "outputs": [],
   "source": []
  },
  {
   "cell_type": "code",
   "execution_count": null,
   "metadata": {
    "collapsed": true
   },
   "outputs": [],
   "source": []
  },
  {
   "cell_type": "code",
   "execution_count": null,
   "metadata": {
    "collapsed": true
   },
   "outputs": [],
   "source": []
  },
  {
   "cell_type": "code",
   "execution_count": null,
   "metadata": {
    "collapsed": true
   },
   "outputs": [],
   "source": []
  },
  {
   "cell_type": "code",
   "execution_count": null,
   "metadata": {
    "collapsed": true
   },
   "outputs": [],
   "source": []
  }
 ],
 "metadata": {
  "anaconda-cloud": {},
  "kernelspec": {
   "display_name": "Python [Root]",
   "language": "python",
   "name": "Python [Root]"
  },
  "language_info": {
   "codemirror_mode": {
    "name": "ipython",
    "version": 2
   },
   "file_extension": ".py",
   "mimetype": "text/x-python",
   "name": "python",
   "nbconvert_exporter": "python",
   "pygments_lexer": "ipython2",
   "version": "2.7.12"
  }
 },
 "nbformat": 4,
 "nbformat_minor": 0
}
