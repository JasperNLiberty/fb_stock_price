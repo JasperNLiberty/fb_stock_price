{
 "cells": [
  {
   "cell_type": "code",
   "execution_count": 258,
   "metadata": {
    "collapsed": true
   },
   "outputs": [],
   "source": [
    "import pandas as pd\n",
    "import os"
   ]
  },
  {
   "cell_type": "code",
   "execution_count": 259,
   "metadata": {
    "collapsed": false
   },
   "outputs": [],
   "source": [
    "files = os.listdir('.')"
   ]
  },
  {
   "cell_type": "code",
   "execution_count": 260,
   "metadata": {
    "collapsed": true
   },
   "outputs": [],
   "source": [
    "datafiles.reverse()"
   ]
  },
  {
   "cell_type": "code",
   "execution_count": 261,
   "metadata": {
    "collapsed": false
   },
   "outputs": [],
   "source": [
    "datafiles = [f for f in files if 'csv' in f]"
   ]
  },
  {
   "cell_type": "code",
   "execution_count": 262,
   "metadata": {
    "collapsed": true
   },
   "outputs": [],
   "source": [
    "df = pd.DataFrame()"
   ]
  },
  {
   "cell_type": "code",
   "execution_count": 263,
   "metadata": {
    "collapsed": false
   },
   "outputs": [],
   "source": [
    "for dataf in datafiles:\n",
    "    df = pd.concat([df, pd.read_csv('./' + dataf)])"
   ]
  },
  {
   "cell_type": "code",
   "execution_count": 264,
   "metadata": {
    "collapsed": true
   },
   "outputs": [],
   "source": [
    "df = df.reset_index()"
   ]
  },
  {
   "cell_type": "code",
   "execution_count": 265,
   "metadata": {
    "collapsed": false
   },
   "outputs": [
    {
     "data": {
      "text/html": [
       "<div>\n",
       "<table border=\"1\" class=\"dataframe\">\n",
       "  <thead>\n",
       "    <tr style=\"text-align: right;\">\n",
       "      <th></th>\n",
       "      <th>index</th>\n",
       "      <th>Date</th>\n",
       "      <th>Open</th>\n",
       "      <th>High</th>\n",
       "      <th>Low</th>\n",
       "      <th>Close</th>\n",
       "      <th>Volume</th>\n",
       "      <th>Adj Close</th>\n",
       "    </tr>\n",
       "  </thead>\n",
       "  <tbody>\n",
       "    <tr>\n",
       "      <th>0</th>\n",
       "      <td>0</td>\n",
       "      <td>2012-07-31</td>\n",
       "      <td>23.370001</td>\n",
       "      <td>23.370001</td>\n",
       "      <td>21.610001</td>\n",
       "      <td>21.709999</td>\n",
       "      <td>56179400</td>\n",
       "      <td>21.709999</td>\n",
       "    </tr>\n",
       "    <tr>\n",
       "      <th>1</th>\n",
       "      <td>1</td>\n",
       "      <td>2012-07-30</td>\n",
       "      <td>24.000000</td>\n",
       "      <td>24.040001</td>\n",
       "      <td>23.030001</td>\n",
       "      <td>23.150000</td>\n",
       "      <td>29285900</td>\n",
       "      <td>23.150000</td>\n",
       "    </tr>\n",
       "    <tr>\n",
       "      <th>2</th>\n",
       "      <td>2</td>\n",
       "      <td>2012-07-27</td>\n",
       "      <td>23.190001</td>\n",
       "      <td>24.540001</td>\n",
       "      <td>22.280001</td>\n",
       "      <td>23.709999</td>\n",
       "      <td>123102300</td>\n",
       "      <td>23.709999</td>\n",
       "    </tr>\n",
       "    <tr>\n",
       "      <th>3</th>\n",
       "      <td>3</td>\n",
       "      <td>2012-07-26</td>\n",
       "      <td>27.750000</td>\n",
       "      <td>28.230000</td>\n",
       "      <td>26.730000</td>\n",
       "      <td>26.850000</td>\n",
       "      <td>64597400</td>\n",
       "      <td>26.850000</td>\n",
       "    </tr>\n",
       "    <tr>\n",
       "      <th>4</th>\n",
       "      <td>4</td>\n",
       "      <td>2012-07-25</td>\n",
       "      <td>28.389999</td>\n",
       "      <td>29.490000</td>\n",
       "      <td>28.080000</td>\n",
       "      <td>29.340000</td>\n",
       "      <td>17230200</td>\n",
       "      <td>29.340000</td>\n",
       "    </tr>\n",
       "  </tbody>\n",
       "</table>\n",
       "</div>"
      ],
      "text/plain": [
       "   index        Date       Open       High        Low      Close     Volume  \\\n",
       "0      0  2012-07-31  23.370001  23.370001  21.610001  21.709999   56179400   \n",
       "1      1  2012-07-30  24.000000  24.040001  23.030001  23.150000   29285900   \n",
       "2      2  2012-07-27  23.190001  24.540001  22.280001  23.709999  123102300   \n",
       "3      3  2012-07-26  27.750000  28.230000  26.730000  26.850000   64597400   \n",
       "4      4  2012-07-25  28.389999  29.490000  28.080000  29.340000   17230200   \n",
       "\n",
       "   Adj Close  \n",
       "0  21.709999  \n",
       "1  23.150000  \n",
       "2  23.709999  \n",
       "3  26.850000  \n",
       "4  29.340000  "
      ]
     },
     "execution_count": 265,
     "metadata": {},
     "output_type": "execute_result"
    }
   ],
   "source": [
    "df.head()"
   ]
  },
  {
   "cell_type": "code",
   "execution_count": 266,
   "metadata": {
    "collapsed": false
   },
   "outputs": [],
   "source": [
    "import datetime\n",
    "\n",
    "import dateutil\n",
    "\n",
    "df['Date2'] = df['Date'].apply(lambda x:dateutil.parser.parse(x))"
   ]
  },
  {
   "cell_type": "code",
   "execution_count": 267,
   "metadata": {
    "collapsed": false,
    "scrolled": true
   },
   "outputs": [
    {
     "data": {
      "text/html": [
       "<div>\n",
       "<table border=\"1\" class=\"dataframe\">\n",
       "  <thead>\n",
       "    <tr style=\"text-align: right;\">\n",
       "      <th></th>\n",
       "      <th>index</th>\n",
       "      <th>Date</th>\n",
       "      <th>Open</th>\n",
       "      <th>High</th>\n",
       "      <th>Low</th>\n",
       "      <th>Close</th>\n",
       "      <th>Volume</th>\n",
       "      <th>Adj Close</th>\n",
       "      <th>Date2</th>\n",
       "    </tr>\n",
       "  </thead>\n",
       "  <tbody>\n",
       "    <tr>\n",
       "      <th>0</th>\n",
       "      <td>0</td>\n",
       "      <td>2012-07-31</td>\n",
       "      <td>23.370001</td>\n",
       "      <td>23.370001</td>\n",
       "      <td>21.610001</td>\n",
       "      <td>21.709999</td>\n",
       "      <td>56179400</td>\n",
       "      <td>21.709999</td>\n",
       "      <td>2012-07-31</td>\n",
       "    </tr>\n",
       "    <tr>\n",
       "      <th>1</th>\n",
       "      <td>1</td>\n",
       "      <td>2012-07-30</td>\n",
       "      <td>24.000000</td>\n",
       "      <td>24.040001</td>\n",
       "      <td>23.030001</td>\n",
       "      <td>23.150000</td>\n",
       "      <td>29285900</td>\n",
       "      <td>23.150000</td>\n",
       "      <td>2012-07-30</td>\n",
       "    </tr>\n",
       "    <tr>\n",
       "      <th>2</th>\n",
       "      <td>2</td>\n",
       "      <td>2012-07-27</td>\n",
       "      <td>23.190001</td>\n",
       "      <td>24.540001</td>\n",
       "      <td>22.280001</td>\n",
       "      <td>23.709999</td>\n",
       "      <td>123102300</td>\n",
       "      <td>23.709999</td>\n",
       "      <td>2012-07-27</td>\n",
       "    </tr>\n",
       "    <tr>\n",
       "      <th>3</th>\n",
       "      <td>3</td>\n",
       "      <td>2012-07-26</td>\n",
       "      <td>27.750000</td>\n",
       "      <td>28.230000</td>\n",
       "      <td>26.730000</td>\n",
       "      <td>26.850000</td>\n",
       "      <td>64597400</td>\n",
       "      <td>26.850000</td>\n",
       "      <td>2012-07-26</td>\n",
       "    </tr>\n",
       "    <tr>\n",
       "      <th>4</th>\n",
       "      <td>4</td>\n",
       "      <td>2012-07-25</td>\n",
       "      <td>28.389999</td>\n",
       "      <td>29.490000</td>\n",
       "      <td>28.080000</td>\n",
       "      <td>29.340000</td>\n",
       "      <td>17230200</td>\n",
       "      <td>29.340000</td>\n",
       "      <td>2012-07-25</td>\n",
       "    </tr>\n",
       "  </tbody>\n",
       "</table>\n",
       "</div>"
      ],
      "text/plain": [
       "   index        Date       Open       High        Low      Close     Volume  \\\n",
       "0      0  2012-07-31  23.370001  23.370001  21.610001  21.709999   56179400   \n",
       "1      1  2012-07-30  24.000000  24.040001  23.030001  23.150000   29285900   \n",
       "2      2  2012-07-27  23.190001  24.540001  22.280001  23.709999  123102300   \n",
       "3      3  2012-07-26  27.750000  28.230000  26.730000  26.850000   64597400   \n",
       "4      4  2012-07-25  28.389999  29.490000  28.080000  29.340000   17230200   \n",
       "\n",
       "   Adj Close      Date2  \n",
       "0  21.709999 2012-07-31  \n",
       "1  23.150000 2012-07-30  \n",
       "2  23.709999 2012-07-27  \n",
       "3  26.850000 2012-07-26  \n",
       "4  29.340000 2012-07-25  "
      ]
     },
     "execution_count": 267,
     "metadata": {},
     "output_type": "execute_result"
    }
   ],
   "source": [
    "df.head()"
   ]
  },
  {
   "cell_type": "code",
   "execution_count": 217,
   "metadata": {
    "collapsed": true
   },
   "outputs": [],
   "source": [
    "dates = pd.read_excel('FB quarterly report dates.xlsx')"
   ]
  },
  {
   "cell_type": "code",
   "execution_count": 219,
   "metadata": {
    "collapsed": false
   },
   "outputs": [
    {
     "data": {
      "text/html": [
       "<div>\n",
       "<table border=\"1\" class=\"dataframe\">\n",
       "  <thead>\n",
       "    <tr style=\"text-align: right;\">\n",
       "      <th></th>\n",
       "      <th>sec</th>\n",
       "      <th>Unnamed: 1</th>\n",
       "      <th>announcement</th>\n",
       "      <th>before</th>\n",
       "      <th>after</th>\n",
       "    </tr>\n",
       "  </thead>\n",
       "  <tbody>\n",
       "    <tr>\n",
       "      <th>0</th>\n",
       "      <td>NaT</td>\n",
       "      <td>NaN</td>\n",
       "      <td>2017-02-01</td>\n",
       "      <td>2017-01-31</td>\n",
       "      <td>2017-02-02</td>\n",
       "    </tr>\n",
       "    <tr>\n",
       "      <th>1</th>\n",
       "      <td>2016-11-03</td>\n",
       "      <td>5.0</td>\n",
       "      <td>2016-11-02</td>\n",
       "      <td>2016-11-01</td>\n",
       "      <td>2016-11-03</td>\n",
       "    </tr>\n",
       "    <tr>\n",
       "      <th>2</th>\n",
       "      <td>2016-07-28</td>\n",
       "      <td>5.0</td>\n",
       "      <td>2016-07-27</td>\n",
       "      <td>2016-07-26</td>\n",
       "      <td>2016-07-28</td>\n",
       "    </tr>\n",
       "    <tr>\n",
       "      <th>3</th>\n",
       "      <td>2016-04-28</td>\n",
       "      <td>5.0</td>\n",
       "      <td>2016-04-27</td>\n",
       "      <td>2016-04-26</td>\n",
       "      <td>2016-04-28</td>\n",
       "    </tr>\n",
       "    <tr>\n",
       "      <th>4</th>\n",
       "      <td>2016-01-28</td>\n",
       "      <td>5.0</td>\n",
       "      <td>2016-01-27</td>\n",
       "      <td>2016-01-26</td>\n",
       "      <td>2016-01-28</td>\n",
       "    </tr>\n",
       "  </tbody>\n",
       "</table>\n",
       "</div>"
      ],
      "text/plain": [
       "         sec  Unnamed: 1 announcement     before      after\n",
       "0        NaT         NaN   2017-02-01 2017-01-31 2017-02-02\n",
       "1 2016-11-03         5.0   2016-11-02 2016-11-01 2016-11-03\n",
       "2 2016-07-28         5.0   2016-07-27 2016-07-26 2016-07-28\n",
       "3 2016-04-28         5.0   2016-04-27 2016-04-26 2016-04-28\n",
       "4 2016-01-28         5.0   2016-01-27 2016-01-26 2016-01-28"
      ]
     },
     "execution_count": 219,
     "metadata": {},
     "output_type": "execute_result"
    }
   ],
   "source": [
    "dates.head()"
   ]
  },
  {
   "cell_type": "code",
   "execution_count": 220,
   "metadata": {
    "collapsed": true
   },
   "outputs": [],
   "source": [
    "a = dates['announcement']"
   ]
  },
  {
   "cell_type": "code",
   "execution_count": 221,
   "metadata": {
    "collapsed": true
   },
   "outputs": [],
   "source": [
    "bef = dates['before']"
   ]
  },
  {
   "cell_type": "code",
   "execution_count": 222,
   "metadata": {
    "collapsed": true
   },
   "outputs": [],
   "source": [
    "aft = dates['after']"
   ]
  },
  {
   "cell_type": "code",
   "execution_count": null,
   "metadata": {
    "collapsed": true
   },
   "outputs": [],
   "source": []
  },
  {
   "cell_type": "code",
   "execution_count": 109,
   "metadata": {
    "collapsed": false
   },
   "outputs": [],
   "source": [
    "a_close = []\n",
    "for test_date in a:\n",
    "    a_close.append(df[df['Date2'] == test_date]['Close'].tolist()[0])"
   ]
  },
  {
   "cell_type": "code",
   "execution_count": 110,
   "metadata": {
    "collapsed": false
   },
   "outputs": [],
   "source": [
    "bef_close = []\n",
    "for test_date in bef:\n",
    "    bef_close.append(df[df['Date2'] == test_date]['Close'].tolist()[0])"
   ]
  },
  {
   "cell_type": "code",
   "execution_count": 123,
   "metadata": {
    "collapsed": false
   },
   "outputs": [],
   "source": [
    "aft_close = []\n",
    "for test_date in aft:\n",
    "    try:\n",
    "        aft_close.append(df[df['Date2'] == test_date]['Close'].tolist()[0])\n",
    "    except:\n",
    "        aft_close.append(0)"
   ]
  },
  {
   "cell_type": "code",
   "execution_count": 124,
   "metadata": {
    "collapsed": false
   },
   "outputs": [
    {
     "data": {
      "text/plain": [
       "[0,\n",
       " 120.0,\n",
       " 125.0,\n",
       " 116.730003,\n",
       " 109.110001,\n",
       " 108.760002,\n",
       " 94.139999000000003,\n",
       " 82.410004000000001,\n",
       " 78.0,\n",
       " 74.110000999999997,\n",
       " 74.980002999999996,\n",
       " 56.139998999999996,\n",
       " 61.479999999999997,\n",
       " 48.220001000000003,\n",
       " 34.360001000000004,\n",
       " 28.969998999999998,\n",
       " 28.110001,\n",
       " 23.23,\n",
       " 21.709999]"
      ]
     },
     "execution_count": 124,
     "metadata": {},
     "output_type": "execute_result"
    }
   ],
   "source": [
    "aft_close"
   ]
  },
  {
   "cell_type": "code",
   "execution_count": 125,
   "metadata": {
    "collapsed": true
   },
   "outputs": [],
   "source": [
    "import matplotlib.pyplot as plt"
   ]
  },
  {
   "cell_type": "code",
   "execution_count": 126,
   "metadata": {
    "collapsed": true
   },
   "outputs": [],
   "source": [
    "%matplotlib inline"
   ]
  },
  {
   "cell_type": "code",
   "execution_count": 136,
   "metadata": {
    "collapsed": false
   },
   "outputs": [
    {
     "data": {
      "text/plain": [
       "[<matplotlib.lines.Line2D at 0x11994a890>]"
      ]
     },
     "execution_count": 136,
     "metadata": {},
     "output_type": "execute_result"
    },
    {
     "data": {
      "image/png": "[encoded data removed]",
      "text/plain": [
       "<matplotlib.figure.Figure at 0x1198be190>"
      ]
     },
     "metadata": {},
     "output_type": "display_data"
    }
   ],
   "source": [
    "fig, ax = plt.subplots(1, 1, figsize=(15,15))\n",
    "\n",
    "ax.plot(bef, bef_close, 'r')\n",
    "ax.plot(a, a_close, 'g')\n",
    "ax.plot(aft, aft_close, 'b')"
   ]
  },
  {
   "cell_type": "code",
   "execution_count": 138,
   "metadata": {
    "collapsed": false
   },
   "outputs": [
    {
     "data": {
      "text/plain": [
       "[(130.320007, 133.229996),\n",
       " (129.5, 127.16999799999999),\n",
       " (121.220001, 123.339996),\n",
       " (108.760002, 108.889999),\n",
       " (97.339995999999999, 94.449996999999996),\n",
       " (102.58000200000001, 103.94000200000001),\n",
       " (96.989998, 95.209998999999996),\n",
       " (83.620002999999997, 84.629997000000003),\n",
       " (75.779999000000004, 76.239998),\n",
       " (80.769997000000004, 75.860000999999997),\n",
       " (69.269997000000004, 71.290001000000004),\n",
       " (61.360001000000004, 60.869999),\n",
       " (53.529998999999997, 61.080002),\n",
       " (49.009997999999996, 50.209998999999996),\n",
       " (26.129998999999998, 26.510000000000002),\n",
       " (27.77, 27.43),\n",
       " (31.239999999999998, 30.98),\n",
       " (19.32, 19.5),\n",
       " (23.709999, 23.149999999999999)]"
      ]
     },
     "execution_count": 138,
     "metadata": {},
     "output_type": "execute_result"
    }
   ],
   "source": [
    "zip(bef_close, a_close)"
   ]
  },
  {
   "cell_type": "code",
   "execution_count": 139,
   "metadata": {
    "collapsed": true
   },
   "outputs": [],
   "source": [
    "import numpy as np"
   ]
  },
  {
   "cell_type": "code",
   "execution_count": 140,
   "metadata": {
    "collapsed": false
   },
   "outputs": [
    {
     "data": {
      "text/plain": [
       "array([ True, False,  True,  True, False,  True, False,  True,  True,\n",
       "       False,  True, False,  True,  True,  True, False, False,  True, False], dtype=bool)"
      ]
     },
     "execution_count": 140,
     "metadata": {},
     "output_type": "execute_result"
    }
   ],
   "source": [
    "np.array(bef_close) < np.array(a_close)"
   ]
  },
  {
   "cell_type": "code",
   "execution_count": 150,
   "metadata": {
    "collapsed": false
   },
   "outputs": [],
   "source": [
    "df = pd.DataFrame([a.tolist(), bef_close, a_close, aft_close]).transpose()"
   ]
  },
  {
   "cell_type": "code",
   "execution_count": 151,
   "metadata": {
    "collapsed": false
   },
   "outputs": [
    {
     "data": {
      "text/html": [
       "<div>\n",
       "<table border=\"1\" class=\"dataframe\">\n",
       "  <thead>\n",
       "    <tr style=\"text-align: right;\">\n",
       "      <th></th>\n",
       "      <th>0</th>\n",
       "      <th>1</th>\n",
       "      <th>2</th>\n",
       "      <th>3</th>\n",
       "    </tr>\n",
       "  </thead>\n",
       "  <tbody>\n",
       "    <tr>\n",
       "      <th>0</th>\n",
       "      <td>2017-02-01 00:00:00</td>\n",
       "      <td>130.32</td>\n",
       "      <td>133.23</td>\n",
       "      <td>0</td>\n",
       "    </tr>\n",
       "    <tr>\n",
       "      <th>1</th>\n",
       "      <td>2016-11-02 00:00:00</td>\n",
       "      <td>129.5</td>\n",
       "      <td>127.17</td>\n",
       "      <td>120</td>\n",
       "    </tr>\n",
       "    <tr>\n",
       "      <th>2</th>\n",
       "      <td>2016-07-27 00:00:00</td>\n",
       "      <td>121.22</td>\n",
       "      <td>123.34</td>\n",
       "      <td>125</td>\n",
       "    </tr>\n",
       "    <tr>\n",
       "      <th>3</th>\n",
       "      <td>2016-04-27 00:00:00</td>\n",
       "      <td>108.76</td>\n",
       "      <td>108.89</td>\n",
       "      <td>116.73</td>\n",
       "    </tr>\n",
       "    <tr>\n",
       "      <th>4</th>\n",
       "      <td>2016-01-27 00:00:00</td>\n",
       "      <td>97.34</td>\n",
       "      <td>94.45</td>\n",
       "      <td>109.11</td>\n",
       "    </tr>\n",
       "  </tbody>\n",
       "</table>\n",
       "</div>"
      ],
      "text/plain": [
       "                     0       1       2       3\n",
       "0  2017-02-01 00:00:00  130.32  133.23       0\n",
       "1  2016-11-02 00:00:00   129.5  127.17     120\n",
       "2  2016-07-27 00:00:00  121.22  123.34     125\n",
       "3  2016-04-27 00:00:00  108.76  108.89  116.73\n",
       "4  2016-01-27 00:00:00   97.34   94.45  109.11"
      ]
     },
     "execution_count": 151,
     "metadata": {},
     "output_type": "execute_result"
    }
   ],
   "source": [
    "df.head()"
   ]
  },
  {
   "cell_type": "code",
   "execution_count": 152,
   "metadata": {
    "collapsed": true
   },
   "outputs": [],
   "source": [
    "df.columns=['time', 'bef', 'a','aft']"
   ]
  },
  {
   "cell_type": "code",
   "execution_count": 153,
   "metadata": {
    "collapsed": false
   },
   "outputs": [
    {
     "data": {
      "text/html": [
       "<div>\n",
       "<table border=\"1\" class=\"dataframe\">\n",
       "  <thead>\n",
       "    <tr style=\"text-align: right;\">\n",
       "      <th></th>\n",
       "      <th>time</th>\n",
       "      <th>bef</th>\n",
       "      <th>a</th>\n",
       "      <th>aft</th>\n",
       "    </tr>\n",
       "  </thead>\n",
       "  <tbody>\n",
       "    <tr>\n",
       "      <th>0</th>\n",
       "      <td>2017-02-01 00:00:00</td>\n",
       "      <td>130.32</td>\n",
       "      <td>133.23</td>\n",
       "      <td>0</td>\n",
       "    </tr>\n",
       "    <tr>\n",
       "      <th>1</th>\n",
       "      <td>2016-11-02 00:00:00</td>\n",
       "      <td>129.5</td>\n",
       "      <td>127.17</td>\n",
       "      <td>120</td>\n",
       "    </tr>\n",
       "    <tr>\n",
       "      <th>2</th>\n",
       "      <td>2016-07-27 00:00:00</td>\n",
       "      <td>121.22</td>\n",
       "      <td>123.34</td>\n",
       "      <td>125</td>\n",
       "    </tr>\n",
       "    <tr>\n",
       "      <th>3</th>\n",
       "      <td>2016-04-27 00:00:00</td>\n",
       "      <td>108.76</td>\n",
       "      <td>108.89</td>\n",
       "      <td>116.73</td>\n",
       "    </tr>\n",
       "    <tr>\n",
       "      <th>4</th>\n",
       "      <td>2016-01-27 00:00:00</td>\n",
       "      <td>97.34</td>\n",
       "      <td>94.45</td>\n",
       "      <td>109.11</td>\n",
       "    </tr>\n",
       "  </tbody>\n",
       "</table>\n",
       "</div>"
      ],
      "text/plain": [
       "                  time     bef       a     aft\n",
       "0  2017-02-01 00:00:00  130.32  133.23       0\n",
       "1  2016-11-02 00:00:00   129.5  127.17     120\n",
       "2  2016-07-27 00:00:00  121.22  123.34     125\n",
       "3  2016-04-27 00:00:00  108.76  108.89  116.73\n",
       "4  2016-01-27 00:00:00   97.34   94.45  109.11"
      ]
     },
     "execution_count": 153,
     "metadata": {},
     "output_type": "execute_result"
    }
   ],
   "source": [
    "df.head()"
   ]
  },
  {
   "cell_type": "code",
   "execution_count": 155,
   "metadata": {
    "collapsed": false
   },
   "outputs": [],
   "source": [
    "df2 = df[df['bef']<df['a']]"
   ]
  },
  {
   "cell_type": "code",
   "execution_count": 158,
   "metadata": {
    "collapsed": false
   },
   "outputs": [
    {
     "data": {
      "text/html": [
       "<div>\n",
       "<table border=\"1\" class=\"dataframe\">\n",
       "  <thead>\n",
       "    <tr style=\"text-align: right;\">\n",
       "      <th></th>\n",
       "      <th>time</th>\n",
       "      <th>bef</th>\n",
       "      <th>a</th>\n",
       "      <th>aft</th>\n",
       "    </tr>\n",
       "  </thead>\n",
       "  <tbody>\n",
       "    <tr>\n",
       "      <th>0</th>\n",
       "      <td>2017-02-01 00:00:00</td>\n",
       "      <td>130.32</td>\n",
       "      <td>133.23</td>\n",
       "      <td>0</td>\n",
       "    </tr>\n",
       "    <tr>\n",
       "      <th>2</th>\n",
       "      <td>2016-07-27 00:00:00</td>\n",
       "      <td>121.22</td>\n",
       "      <td>123.34</td>\n",
       "      <td>125</td>\n",
       "    </tr>\n",
       "    <tr>\n",
       "      <th>3</th>\n",
       "      <td>2016-04-27 00:00:00</td>\n",
       "      <td>108.76</td>\n",
       "      <td>108.89</td>\n",
       "      <td>116.73</td>\n",
       "    </tr>\n",
       "    <tr>\n",
       "      <th>5</th>\n",
       "      <td>2015-11-04 00:00:00</td>\n",
       "      <td>102.58</td>\n",
       "      <td>103.94</td>\n",
       "      <td>108.76</td>\n",
       "    </tr>\n",
       "    <tr>\n",
       "      <th>7</th>\n",
       "      <td>2015-04-22 00:00:00</td>\n",
       "      <td>83.62</td>\n",
       "      <td>84.63</td>\n",
       "      <td>82.41</td>\n",
       "    </tr>\n",
       "    <tr>\n",
       "      <th>8</th>\n",
       "      <td>2015-01-28 00:00:00</td>\n",
       "      <td>75.78</td>\n",
       "      <td>76.24</td>\n",
       "      <td>78</td>\n",
       "    </tr>\n",
       "    <tr>\n",
       "      <th>10</th>\n",
       "      <td>2014-07-23 00:00:00</td>\n",
       "      <td>69.27</td>\n",
       "      <td>71.29</td>\n",
       "      <td>74.98</td>\n",
       "    </tr>\n",
       "    <tr>\n",
       "      <th>12</th>\n",
       "      <td>2014-01-30 00:00:00</td>\n",
       "      <td>53.53</td>\n",
       "      <td>61.08</td>\n",
       "      <td>61.48</td>\n",
       "    </tr>\n",
       "    <tr>\n",
       "      <th>13</th>\n",
       "      <td>2013-10-31 00:00:00</td>\n",
       "      <td>49.01</td>\n",
       "      <td>50.21</td>\n",
       "      <td>48.22</td>\n",
       "    </tr>\n",
       "    <tr>\n",
       "      <th>14</th>\n",
       "      <td>2013-07-24 00:00:00</td>\n",
       "      <td>26.13</td>\n",
       "      <td>26.51</td>\n",
       "      <td>34.36</td>\n",
       "    </tr>\n",
       "    <tr>\n",
       "      <th>17</th>\n",
       "      <td>2012-10-23 00:00:00</td>\n",
       "      <td>19.32</td>\n",
       "      <td>19.5</td>\n",
       "      <td>23.23</td>\n",
       "    </tr>\n",
       "  </tbody>\n",
       "</table>\n",
       "</div>"
      ],
      "text/plain": [
       "                   time     bef       a     aft\n",
       "0   2017-02-01 00:00:00  130.32  133.23       0\n",
       "2   2016-07-27 00:00:00  121.22  123.34     125\n",
       "3   2016-04-27 00:00:00  108.76  108.89  116.73\n",
       "5   2015-11-04 00:00:00  102.58  103.94  108.76\n",
       "7   2015-04-22 00:00:00   83.62   84.63   82.41\n",
       "8   2015-01-28 00:00:00   75.78   76.24      78\n",
       "10  2014-07-23 00:00:00   69.27   71.29   74.98\n",
       "12  2014-01-30 00:00:00   53.53   61.08   61.48\n",
       "13  2013-10-31 00:00:00   49.01   50.21   48.22\n",
       "14  2013-07-24 00:00:00   26.13   26.51   34.36\n",
       "17  2012-10-23 00:00:00   19.32    19.5   23.23"
      ]
     },
     "execution_count": 158,
     "metadata": {},
     "output_type": "execute_result"
    }
   ],
   "source": [
    "df2"
   ]
  },
  {
   "cell_type": "code",
   "execution_count": 156,
   "metadata": {
    "collapsed": true
   },
   "outputs": [],
   "source": [
    "df3 = df2[df2['a']<df2['aft']]"
   ]
  },
  {
   "cell_type": "code",
   "execution_count": 157,
   "metadata": {
    "collapsed": false
   },
   "outputs": [
    {
     "data": {
      "text/html": [
       "<div>\n",
       "<table border=\"1\" class=\"dataframe\">\n",
       "  <thead>\n",
       "    <tr style=\"text-align: right;\">\n",
       "      <th></th>\n",
       "      <th>time</th>\n",
       "      <th>bef</th>\n",
       "      <th>a</th>\n",
       "      <th>aft</th>\n",
       "    </tr>\n",
       "  </thead>\n",
       "  <tbody>\n",
       "    <tr>\n",
       "      <th>2</th>\n",
       "      <td>2016-07-27 00:00:00</td>\n",
       "      <td>121.22</td>\n",
       "      <td>123.34</td>\n",
       "      <td>125</td>\n",
       "    </tr>\n",
       "    <tr>\n",
       "      <th>3</th>\n",
       "      <td>2016-04-27 00:00:00</td>\n",
       "      <td>108.76</td>\n",
       "      <td>108.89</td>\n",
       "      <td>116.73</td>\n",
       "    </tr>\n",
       "    <tr>\n",
       "      <th>5</th>\n",
       "      <td>2015-11-04 00:00:00</td>\n",
       "      <td>102.58</td>\n",
       "      <td>103.94</td>\n",
       "      <td>108.76</td>\n",
       "    </tr>\n",
       "    <tr>\n",
       "      <th>8</th>\n",
       "      <td>2015-01-28 00:00:00</td>\n",
       "      <td>75.78</td>\n",
       "      <td>76.24</td>\n",
       "      <td>78</td>\n",
       "    </tr>\n",
       "    <tr>\n",
       "      <th>10</th>\n",
       "      <td>2014-07-23 00:00:00</td>\n",
       "      <td>69.27</td>\n",
       "      <td>71.29</td>\n",
       "      <td>74.98</td>\n",
       "    </tr>\n",
       "    <tr>\n",
       "      <th>12</th>\n",
       "      <td>2014-01-30 00:00:00</td>\n",
       "      <td>53.53</td>\n",
       "      <td>61.08</td>\n",
       "      <td>61.48</td>\n",
       "    </tr>\n",
       "    <tr>\n",
       "      <th>14</th>\n",
       "      <td>2013-07-24 00:00:00</td>\n",
       "      <td>26.13</td>\n",
       "      <td>26.51</td>\n",
       "      <td>34.36</td>\n",
       "    </tr>\n",
       "    <tr>\n",
       "      <th>17</th>\n",
       "      <td>2012-10-23 00:00:00</td>\n",
       "      <td>19.32</td>\n",
       "      <td>19.5</td>\n",
       "      <td>23.23</td>\n",
       "    </tr>\n",
       "  </tbody>\n",
       "</table>\n",
       "</div>"
      ],
      "text/plain": [
       "                   time     bef       a     aft\n",
       "2   2016-07-27 00:00:00  121.22  123.34     125\n",
       "3   2016-04-27 00:00:00  108.76  108.89  116.73\n",
       "5   2015-11-04 00:00:00  102.58  103.94  108.76\n",
       "8   2015-01-28 00:00:00   75.78   76.24      78\n",
       "10  2014-07-23 00:00:00   69.27   71.29   74.98\n",
       "12  2014-01-30 00:00:00   53.53   61.08   61.48\n",
       "14  2013-07-24 00:00:00   26.13   26.51   34.36\n",
       "17  2012-10-23 00:00:00   19.32    19.5   23.23"
      ]
     },
     "execution_count": 157,
     "metadata": {},
     "output_type": "execute_result"
    }
   ],
   "source": [
    "df3"
   ]
  },
  {
   "cell_type": "code",
   "execution_count": 159,
   "metadata": {
    "collapsed": false
   },
   "outputs": [
    {
     "data": {
      "text/plain": [
       "11"
      ]
     },
     "execution_count": 159,
     "metadata": {},
     "output_type": "execute_result"
    }
   ],
   "source": [
    "len(df2)"
   ]
  },
  {
   "cell_type": "code",
   "execution_count": 160,
   "metadata": {
    "collapsed": false
   },
   "outputs": [
    {
     "data": {
      "text/plain": [
       "8"
      ]
     },
     "execution_count": 160,
     "metadata": {},
     "output_type": "execute_result"
    }
   ],
   "source": [
    "len(df3)"
   ]
  },
  {
   "cell_type": "code",
   "execution_count": 164,
   "metadata": {
    "collapsed": false
   },
   "outputs": [
    {
     "data": {
      "text/plain": [
       "2"
      ]
     },
     "execution_count": 164,
     "metadata": {},
     "output_type": "execute_result"
    }
   ],
   "source": [
    "a[0].weekday()"
   ]
  },
  {
   "cell_type": "code",
   "execution_count": null,
   "metadata": {
    "collapsed": true
   },
   "outputs": [],
   "source": [
    "# 2 days after annoucement"
   ]
  },
  {
   "cell_type": "code",
   "execution_count": 172,
   "metadata": {
    "collapsed": false
   },
   "outputs": [],
   "source": [
    "x = a[0]"
   ]
  },
  {
   "cell_type": "code",
   "execution_count": 180,
   "metadata": {
    "collapsed": false
   },
   "outputs": [
    {
     "data": {
      "text/plain": [
       "2"
      ]
     },
     "execution_count": 180,
     "metadata": {},
     "output_type": "execute_result"
    }
   ],
   "source": [
    "# Monday is 0\n",
    "# Friday is 4\n",
    "# Saturday is 5\n",
    "# Sunday is 6\n",
    "x.weekday()"
   ]
  },
  {
   "cell_type": "code",
   "execution_count": 179,
   "metadata": {
    "collapsed": false
   },
   "outputs": [
    {
     "data": {
      "text/plain": [
       "Timestamp('2017-02-01 00:00:00')"
      ]
     },
     "execution_count": 179,
     "metadata": {},
     "output_type": "execute_result"
    }
   ],
   "source": [
    "x"
   ]
  },
  {
   "cell_type": "code",
   "execution_count": 178,
   "metadata": {
    "collapsed": false
   },
   "outputs": [
    {
     "data": {
      "text/plain": [
       "Timestamp('2017-02-02 00:00:00')"
      ]
     },
     "execution_count": 178,
     "metadata": {},
     "output_type": "execute_result"
    }
   ],
   "source": [
    "x + datetime.timedelta(days=1)"
   ]
  },
  {
   "cell_type": "code",
   "execution_count": null,
   "metadata": {
    "collapsed": true
   },
   "outputs": [],
   "source": []
  },
  {
   "cell_type": "code",
   "execution_count": 229,
   "metadata": {
    "collapsed": false
   },
   "outputs": [],
   "source": []
  },
  {
   "cell_type": "code",
   "execution_count": 223,
   "metadata": {
    "collapsed": true
   },
   "outputs": [],
   "source": [
    "def add_n_day(x, n):\n",
    "    xn = x + datetime.timedelta(days=n)\n",
    "    if xn.weekday() == 5:\n",
    "        return xn + datetime.timedelta(days=2)\n",
    "    elif xn.weekday() == 6:\n",
    "        return xn + datetime.timedelta(days=1)\n",
    "    else:\n",
    "        return xn\n",
    "    "
   ]
  },
  {
   "cell_type": "code",
   "execution_count": 268,
   "metadata": {
    "collapsed": false
   },
   "outputs": [],
   "source": [
    "def cal_an_close(a, n):\n",
    "    \n",
    "    an = a.apply(add_n_day, n=n)\n",
    "    an_close = []\n",
    "\n",
    "    for test_date in an:\n",
    "        try:\n",
    "            an_close.append(df[df['Date2'] == test_date]['Close'].tolist()[0])\n",
    "        except:\n",
    "            an_close.append(0)\n",
    "    return an_close"
   ]
  },
  {
   "cell_type": "code",
   "execution_count": 269,
   "metadata": {
    "collapsed": false
   },
   "outputs": [],
   "source": [
    "an_close = cal_an_close(a,0)"
   ]
  },
  {
   "cell_type": "code",
   "execution_count": 270,
   "metadata": {
    "collapsed": false
   },
   "outputs": [
    {
     "data": {
      "text/plain": [
       "[133.229996,\n",
       " 127.16999799999999,\n",
       " 123.339996,\n",
       " 108.889999,\n",
       " 94.449996999999996,\n",
       " 103.94000200000001,\n",
       " 95.209998999999996,\n",
       " 84.629997000000003,\n",
       " 76.239998,\n",
       " 75.860000999999997,\n",
       " 71.290001000000004,\n",
       " 60.869999,\n",
       " 61.080002,\n",
       " 50.209998999999996,\n",
       " 26.510000000000002,\n",
       " 27.43,\n",
       " 30.98,\n",
       " 19.5,\n",
       " 23.149999999999999]"
      ]
     },
     "execution_count": 270,
     "metadata": {},
     "output_type": "execute_result"
    }
   ],
   "source": [
    "an_close"
   ]
  },
  {
   "cell_type": "code",
   "execution_count": 271,
   "metadata": {
    "collapsed": false
   },
   "outputs": [
    {
     "data": {
      "text/plain": [
       "[0,\n",
       " 120.0,\n",
       " 125.0,\n",
       " 116.730003,\n",
       " 109.110001,\n",
       " 108.760002,\n",
       " 94.010002,\n",
       " 82.410004000000001,\n",
       " 78.0,\n",
       " 74.110000999999997,\n",
       " 74.980002999999996,\n",
       " 57.709998999999996,\n",
       " 62.57,\n",
       " 49.75,\n",
       " 34.360001000000004,\n",
       " 28.969998999999998,\n",
       " 29.73,\n",
       " 23.23,\n",
       " 21.709999]"
      ]
     },
     "execution_count": 271,
     "metadata": {},
     "output_type": "execute_result"
    }
   ],
   "source": [
    "cal_an_close(a,1)"
   ]
  },
  {
   "cell_type": "code",
   "execution_count": 304,
   "metadata": {
    "collapsed": false
   },
   "outputs": [
    {
     "name": "stdout",
     "output_type": "stream",
     "text": [
      "11 8\n",
      "2     1.66\n",
      "3     7.84\n",
      "5     4.82\n",
      "8     1.76\n",
      "10    3.69\n",
      "12    1.49\n",
      "14    7.85\n",
      "17    3.73\n",
      "dtype: object\n",
      "mean 4.105001375\n",
      "std 2.42679359521\n"
     ]
    }
   ],
   "source": [
    "df_price = pd.DataFrame([a.tolist(), cal_an_close(a,-1), a_close, cal_an_close(a,1)]).transpose()\n",
    "\n",
    "df_price.columns = ['date','daybefore','day','dayafter']\n",
    "\n",
    "df_price2 = df_price[df_price['daybefore']<df_price['day']]\n",
    "\n",
    "df_price3 = df_price2[df_price2['day']<df_price2['dayafter']]\n",
    "\n",
    "print len(df_price2), len(df_price3)\n",
    "\n",
    "price_difference = df_price3['dayafter'] - df_price3['day']\n",
    "\n",
    "print price_difference\n",
    "\n",
    "print 'mean', np.array(price_difference).mean()\n",
    "\n",
    "print 'std', np.array(price_difference).std()"
   ]
  },
  {
   "cell_type": "code",
   "execution_count": null,
   "metadata": {
    "collapsed": true
   },
   "outputs": [],
   "source": []
  },
  {
   "cell_type": "code",
   "execution_count": 303,
   "metadata": {
    "collapsed": false
   },
   "outputs": [
    {
     "name": "stdout",
     "output_type": "stream",
     "text": [
      "11 7\n",
      "2     0.600006\n",
      "3         8.69\n",
      "5         3.16\n",
      "10         3.9\n",
      "12    0.399998\n",
      "14         7.5\n",
      "17        3.06\n",
      "dtype: object\n",
      "mean 3.90142871429\n",
      "std 2.93494419639\n"
     ]
    }
   ],
   "source": [
    "df_price = pd.DataFrame([a.tolist(), cal_an_close(a,-1), a_close, cal_an_close(a,2)]).transpose()\n",
    "\n",
    "df_price.columns = ['date','daybefore','day','dayafter']\n",
    "\n",
    "df_price2 = df_price[df_price['daybefore']<df_price['day']]\n",
    "\n",
    "df_price3 = df_price2[df_price2['day']<df_price2['dayafter']]\n",
    "\n",
    "print len(df_price2), len(df_price3)\n",
    "\n",
    "price_difference = df_price3['dayafter'] - df_price3['day']\n",
    "\n",
    "print price_difference\n",
    "\n",
    "print 'mean', np.array(price_difference).mean()\n",
    "\n",
    "print 'std', np.array(price_difference).std()"
   ]
  },
  {
   "cell_type": "code",
   "execution_count": null,
   "metadata": {
    "collapsed": true
   },
   "outputs": [],
   "source": []
  },
  {
   "cell_type": "code",
   "execution_count": null,
   "metadata": {
    "collapsed": true
   },
   "outputs": [],
   "source": []
  },
  {
   "cell_type": "code",
   "execution_count": null,
   "metadata": {
    "collapsed": true
   },
   "outputs": [],
   "source": []
  },
  {
   "cell_type": "code",
   "execution_count": null,
   "metadata": {
    "collapsed": true
   },
   "outputs": [],
   "source": []
  },
  {
   "cell_type": "code",
   "execution_count": null,
   "metadata": {
    "collapsed": true
   },
   "outputs": [],
   "source": []
  },
  {
   "cell_type": "code",
   "execution_count": null,
   "metadata": {
    "collapsed": true
   },
   "outputs": [],
   "source": []
  },
  {
   "cell_type": "code",
   "execution_count": null,
   "metadata": {
    "collapsed": true
   },
   "outputs": [],
   "source": []
  },
  {
   "cell_type": "code",
   "execution_count": null,
   "metadata": {
    "collapsed": true
   },
   "outputs": [],
   "source": []
  },
  {
   "cell_type": "code",
   "execution_count": null,
   "metadata": {
    "collapsed": true
   },
   "outputs": [],
   "source": []
  },
  {
   "cell_type": "code",
   "execution_count": null,
   "metadata": {
    "collapsed": true
   },
   "outputs": [],
   "source": []
  },
  {
   "cell_type": "code",
   "execution_count": null,
   "metadata": {
    "collapsed": true
   },
   "outputs": [],
   "source": []
  },
  {
   "cell_type": "code",
   "execution_count": null,
   "metadata": {
    "collapsed": true
   },
   "outputs": [],
   "source": []
  },
  {
   "cell_type": "code",
   "execution_count": null,
   "metadata": {
    "collapsed": true
   },
   "outputs": [],
   "source": []
  }
 ],
 "metadata": {
  "anaconda-cloud": {},
  "kernelspec": {
   "display_name": "Python [Root]",
   "language": "python",
   "name": "Python [Root]"
  },
  "language_info": {
   "codemirror_mode": {
    "name": "ipython",
    "version": 2
   },
   "file_extension": ".py",
   "mimetype": "text/x-python",
   "name": "python",
   "nbconvert_exporter": "python",
   "pygments_lexer": "ipython2",
   "version": "2.7.12"
  }
 },
 "nbformat": 4,
 "nbformat_minor": 0
}
